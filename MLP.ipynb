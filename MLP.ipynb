{
 "cells": [
  {
   "cell_type": "code",
   "execution_count": null,
   "metadata": {
    "id": "v6_K4MXH24es"
   },
   "outputs": [],
   "source": [
    "#MLP Class\n",
    "\n",
    "\n",
    "import tensorflow as tf\n",
    "from keras.preprocessing.image import ImageDataGenerator\n",
    "\n",
    "import os\n",
    "import numpy as np\n",
    "import matplotlib.pyplot as plt\n",
    "from tensorflow.keras.preprocessing import image\n",
    "\n",
    "\n",
    "\n",
    "\n",
    "\n",
    "%matplotlib inline"
   ]
  },
  {
   "cell_type": "code",
   "execution_count": null,
   "metadata": {
    "colab": {
     "base_uri": "https://localhost:8080/"
    },
    "id": "DQu1ldV626Xw",
    "outputId": "672a7449-826d-4a36-c7ad-4e58cf253aac"
   },
   "outputs": [
    {
     "name": "stdout",
     "output_type": "stream",
     "text": [
      "Found 3527 images belonging to 3 classes.\n"
     ]
    }
   ],
   "source": [
    "\n",
    "train_datagen = ImageDataGenerator(rescale = 1./255)\n",
    "training_set = train_datagen.flow_from_directory('/content/drive/MyDrive/COMP309Project/traindata',\n",
    "                                                 target_size = (300, 300),\n",
    "                                                 batch_size = 32,\n",
    "                                                 class_mode = 'categorical')"
   ]
  },
  {
   "cell_type": "code",
   "execution_count": null,
   "metadata": {
    "colab": {
     "base_uri": "https://localhost:8080/"
    },
    "id": "vt7y4isn27yD",
    "outputId": "05816378-8b43-46b4-d6e3-e16f71d82c99"
   },
   "outputs": [
    {
     "name": "stdout",
     "output_type": "stream",
     "text": [
      "Found 450 images belonging to 3 classes.\n"
     ]
    }
   ],
   "source": [
    "test_datagen = ImageDataGenerator(rescale = 1./255)\n",
    "test_set = test_datagen.flow_from_directory('/content/drive/MyDrive/COMP309Project/testdata',\n",
    "                                               target_size = (300, 300),\n",
    "                                                 batch_size = 1,\n",
    "                                                 class_mode = 'categorical', shuffle=False)"
   ]
  },
  {
   "cell_type": "code",
   "execution_count": null,
   "metadata": {
    "colab": {
     "base_uri": "https://localhost:8080/"
    },
    "id": "jvhC2uWhSKOz",
    "outputId": "7860ad84-46b1-454e-f48f-78cfee1b9e5a"
   },
   "outputs": [
    {
     "name": "stdout",
     "output_type": "stream",
     "text": [
      "Found 450 images belonging to 3 classes.\n"
     ]
    }
   ],
   "source": [
    "val_datagen = ImageDataGenerator(rescale = 1./255)\n",
    "val_set = test_datagen.flow_from_directory('/content/drive/MyDrive/COMP309Project/valdata',\n",
    "                                               target_size = (300, 300),\n",
    "                                                 batch_size = 1,\n",
    "                                                 class_mode = 'categorical', shuffle=False)"
   ]
  },
  {
   "cell_type": "code",
   "execution_count": null,
   "metadata": {
    "id": "niaJyX6G4UNG"
   },
   "outputs": [],
   "source": [
    "base = tf.keras.models.Sequential()\n",
    "base.add(tf.keras.layers.Flatten())\n",
    "base.add(tf.keras.layers.Dense(units=256, activation='relu'))\n",
    "base.add(tf.keras.layers.Dense(units=3, activation='softmax')) #Simple MLP\n"
   ]
  },
  {
   "cell_type": "code",
   "execution_count": null,
   "metadata": {
    "colab": {
     "base_uri": "https://localhost:8080/"
    },
    "id": "OXMn-0jS7pE6",
    "outputId": "2a70899c-f190-4abc-c9ca-124b8b066341"
   },
   "outputs": [
    {
     "name": "stdout",
     "output_type": "stream",
     "text": [
      "Epoch 1/17\n",
      "111/111 [==============================] - 1459s 13s/step - loss: 50.8492 - accuracy: 0.3703 - val_loss: 32.6594 - val_accuracy: 0.3511\n",
      "Epoch 2/17\n",
      "111/111 [==============================] - 75s 673ms/step - loss: 13.6740 - accuracy: 0.4179 - val_loss: 20.0928 - val_accuracy: 0.4000\n",
      "Epoch 3/17\n",
      "111/111 [==============================] - 77s 695ms/step - loss: 8.0263 - accuracy: 0.4553 - val_loss: 11.2798 - val_accuracy: 0.3733\n",
      "Epoch 4/17\n",
      "111/111 [==============================] - 75s 679ms/step - loss: 5.3380 - accuracy: 0.4976 - val_loss: 3.8438 - val_accuracy: 0.4200\n",
      "Epoch 5/17\n",
      "111/111 [==============================] - 77s 698ms/step - loss: 5.0727 - accuracy: 0.4928 - val_loss: 6.0501 - val_accuracy: 0.4822\n",
      "Epoch 6/17\n",
      "111/111 [==============================] - 75s 674ms/step - loss: 3.1995 - accuracy: 0.5602 - val_loss: 2.8719 - val_accuracy: 0.4600\n",
      "Epoch 7/17\n",
      "111/111 [==============================] - 78s 699ms/step - loss: 2.9313 - accuracy: 0.5571 - val_loss: 2.5815 - val_accuracy: 0.4378\n",
      "Epoch 8/17\n",
      "111/111 [==============================] - 76s 682ms/step - loss: 3.7773 - accuracy: 0.5197 - val_loss: 9.6432 - val_accuracy: 0.3356\n",
      "Epoch 9/17\n",
      "111/111 [==============================] - 77s 692ms/step - loss: 2.3441 - accuracy: 0.5807 - val_loss: 3.1709 - val_accuracy: 0.3978\n",
      "Epoch 10/17\n",
      "111/111 [==============================] - 78s 699ms/step - loss: 1.4946 - accuracy: 0.5761 - val_loss: 2.6994 - val_accuracy: 0.4689\n",
      "Epoch 11/17\n",
      "111/111 [==============================] - 77s 698ms/step - loss: 0.9760 - accuracy: 0.6569 - val_loss: 1.4950 - val_accuracy: 0.4933\n",
      "Epoch 12/17\n",
      "111/111 [==============================] - 77s 695ms/step - loss: 0.9812 - accuracy: 0.6697 - val_loss: 1.9695 - val_accuracy: 0.4044\n",
      "Epoch 13/17\n",
      "111/111 [==============================] - 75s 680ms/step - loss: 1.1414 - accuracy: 0.6232 - val_loss: 2.5012 - val_accuracy: 0.3933\n",
      "Epoch 14/17\n",
      "111/111 [==============================] - 77s 698ms/step - loss: 0.9497 - accuracy: 0.6365 - val_loss: 1.8606 - val_accuracy: 0.4022\n",
      "Epoch 15/17\n",
      "111/111 [==============================] - 76s 685ms/step - loss: 1.1682 - accuracy: 0.5880 - val_loss: 1.1528 - val_accuracy: 0.4867\n",
      "Epoch 16/17\n",
      "111/111 [==============================] - 75s 676ms/step - loss: 0.8568 - accuracy: 0.6501 - val_loss: 1.3220 - val_accuracy: 0.4333\n",
      "Epoch 17/17\n",
      "111/111 [==============================] - 74s 670ms/step - loss: 0.7097 - accuracy: 0.7048 - val_loss: 1.2967 - val_accuracy: 0.4733\n"
     ]
    },
    {
     "data": {
      "text/plain": [
       "<keras.callbacks.History at 0x7fb564a85090>"
      ]
     },
     "execution_count": 6,
     "metadata": {},
     "output_type": "execute_result"
    }
   ],
   "source": [
    "base.compile(optimizer = 'adam', loss = 'categorical_crossentropy', metrics = ['accuracy'])\n",
    "base.fit(x = training_set, validation_data = val_set, epochs = 17)"
   ]
  },
  {
   "cell_type": "code",
   "execution_count": null,
   "metadata": {
    "colab": {
     "base_uri": "https://localhost:8080/"
    },
    "id": "Qtgj1Z6HY1YL",
    "outputId": "9948fad8-0bd9-4fbf-b478-c1dcea438387"
   },
   "outputs": [
    {
     "name": "stdout",
     "output_type": "stream",
     "text": [
      "450/450 [==============================] - 236s 524ms/step\n",
      "(450, 3)\n"
     ]
    }
   ],
   "source": [
    "test_set.reset()\n",
    "\n",
    "scores=base.predict(test_set)\n",
    "print(scores.shape)"
   ]
  },
  {
   "cell_type": "code",
   "execution_count": null,
   "metadata": {
    "colab": {
     "base_uri": "https://localhost:8080/"
    },
    "id": "CMJC5VgNbANR",
    "outputId": "993b6931-d18f-4400-bdb3-8612da813d6f"
   },
   "outputs": [
    {
     "name": "stdout",
     "output_type": "stream",
     "text": [
      "212\n",
      "71\n",
      "37\n",
      "104\n"
     ]
    }
   ],
   "source": [
    "actual = test_set.classes\n",
    "correct = 0\n",
    "\n",
    "c = 0\n",
    "s = 0\n",
    "t = 0\n",
    "for i in range (450): #Predicting test set\n",
    "  score = np.argmax(scores[i])\n",
    "  if(score == actual[i]):\n",
    "    correct += 1\n",
    "    if(score == 0):\n",
    "      c += 1\n",
    "    elif(score==1):\n",
    "      s+=1\n",
    "    else:\n",
    "      t+=1\n",
    "print(correct)\n",
    "print(c)\n",
    "print(s)\n",
    "print(t)"
   ]
  },
  {
   "cell_type": "code",
   "execution_count": null,
   "metadata": {
    "colab": {
     "base_uri": "https://localhost:8080/"
    },
    "id": "MXWXSSLSbV8G",
    "outputId": "bfa12428-6010-4db0-9f0d-7921cb43d02b"
   },
   "outputs": [
    {
     "name": "stdout",
     "output_type": "stream",
     "text": [
      "450/450 [==============================] - 19s 43ms/step\n",
      "213\n",
      "67\n",
      "33\n",
      "113\n"
     ]
    }
   ],
   "source": [
    "val_set.reset()\n",
    "scores=base.predict(val_set)\n",
    "\n",
    "actual = val_set.classes\n",
    "correct = 0\n",
    "\n",
    "c = 0\n",
    "s = 0\n",
    "t = 0\n",
    "for i in range (450):\n",
    "  score = np.argmax(scores[i])\n",
    "  if(score == actual[i]):\n",
    "    correct += 1\n",
    "    if(score == 0):\n",
    "      c += 1\n",
    "    elif(score==1):\n",
    "      s+=1\n",
    "    else:\n",
    "      t+=1\n",
    "print(correct)\n",
    "print(c)\n",
    "print(s)\n",
    "print(t)"
   ]
  },
  {
   "cell_type": "code",
   "execution_count": null,
   "metadata": {
    "colab": {
     "base_uri": "https://localhost:8080/"
    },
    "id": "heo4sWPnS8-5",
    "outputId": "0bb123bc-e543-47cf-ae07-d75a0c45c3fe"
   },
   "outputs": [
    {
     "name": "stdout",
     "output_type": "stream",
     "text": [
      "111/111 [==============================] - 28s 249ms/step\n",
      "1161\n",
      "349\n",
      "238\n",
      "574\n"
     ]
    }
   ],
   "source": [
    "training_set.reset()\n",
    "scores = base.predict(training_set)\n",
    "actual = training_set.classes\n",
    "correct = 0\n",
    "\n",
    "c = 0\n",
    "s = 0\n",
    "t = 0\n",
    "for i in range (len(scores)):\n",
    "  score = np.argmax(scores[i])\n",
    "  if(score == actual[i]):\n",
    "    correct += 1\n",
    "    if(score == 0):\n",
    "      c += 1\n",
    "    elif(score==1):\n",
    "      s+=1\n",
    "    else:\n",
    "      t+=1\n",
    "print(correct)\n",
    "print(c)\n",
    "print(s)\n",
    "print(t)"
   ]
  }
 ],
 "metadata": {
  "colab": {
   "collapsed_sections": [],
   "provenance": []
  },
  "kernelspec": {
   "display_name": "Python 3 (ipykernel)",
   "language": "python",
   "name": "python3"
  },
  "language_info": {
   "codemirror_mode": {
    "name": "ipython",
    "version": 3
   },
   "file_extension": ".py",
   "mimetype": "text/x-python",
   "name": "python",
   "nbconvert_exporter": "python",
   "pygments_lexer": "ipython3",
   "version": "3.9.12"
  }
 },
 "nbformat": 4,
 "nbformat_minor": 1
}
